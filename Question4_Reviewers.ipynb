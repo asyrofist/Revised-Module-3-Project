{
 "cells": [
  {
   "cell_type": "markdown",
   "metadata": {},
   "source": [
    "## Question 4: Reviewers\n",
    "\n",
    "Is there a significant difference between average scores per reviewer? In other words, is there a most critical and least critical reviewer?\n",
    "\n",
    "Refer to baseball bayesian approach: https://www.linkedin.com/pulse/worst-hitter-history-major-league-baseball-bayesian-approach-damico/\n",
    "\n",
    "- Alternative Hypothesis: There will be one reviewer with significantly higher scores than other reviewers, and one reviewer with significantly lower scores than others.\n",
    "- Null Hypothesis: All reviewers will have statistically similar review scores.\n",
    "\n",
    "\n",
    "### ALTERNATIVE: Using Document Classification with Naive Bayes, can you predict the author of a review?\n",
    "\n",
    "Steps:\n",
    "\n",
    "- remove common words (using list of common stop words)\n",
    "    - Francois helpfully slacked me the dictionary of the words\n",
    "- remove authors with less than 30 reviews (would only be relevant for authors who have written a few reviews for Pitchfork)\n",
    "    - this gives us a list of 119 potential authors to predict out of 432 total authors"
   ]
  },
  {
   "cell_type": "code",
   "execution_count": 1,
   "metadata": {},
   "outputs": [],
   "source": [
    "# Imports\n",
    "\n",
    "import sqlite3\n",
    "import pandas as pd\n",
    "import numpy as np\n",
    "from scipy import stats \n",
    "import seaborn as sns\n",
    "import matplotlib.pyplot as plt\n",
    "from sklearn.model_selection import train_test_split"
   ]
  },
  {
   "cell_type": "code",
   "execution_count": 2,
   "metadata": {},
   "outputs": [],
   "source": [
    "# Creating connection to SQL database\n",
    "\n",
    "conn = sqlite3.Connection(\"database.sqlite\")\n",
    "c = conn.cursor()"
   ]
  },
  {
   "cell_type": "code",
   "execution_count": 34,
   "metadata": {},
   "outputs": [
    {
     "data": {
      "text/html": [
       "<div>\n",
       "<style scoped>\n",
       "    .dataframe tbody tr th:only-of-type {\n",
       "        vertical-align: middle;\n",
       "    }\n",
       "\n",
       "    .dataframe tbody tr th {\n",
       "        vertical-align: top;\n",
       "    }\n",
       "\n",
       "    .dataframe thead th {\n",
       "        text-align: right;\n",
       "    }\n",
       "</style>\n",
       "<table border=\"1\" class=\"dataframe\">\n",
       "  <thead>\n",
       "    <tr style=\"text-align: right;\">\n",
       "      <th></th>\n",
       "      <th>author</th>\n",
       "      <th>author_type</th>\n",
       "      <th>content</th>\n",
       "    </tr>\n",
       "  </thead>\n",
       "  <tbody>\n",
       "    <tr>\n",
       "      <th>0</th>\n",
       "      <td>nate patrin</td>\n",
       "      <td>contributor</td>\n",
       "      <td>“Trip-hop” eventually became a ’90s punchline,...</td>\n",
       "    </tr>\n",
       "    <tr>\n",
       "      <th>1</th>\n",
       "      <td>zoe camp</td>\n",
       "      <td>contributor</td>\n",
       "      <td>Eight years, five albums, and two EPs in, the ...</td>\n",
       "    </tr>\n",
       "    <tr>\n",
       "      <th>2</th>\n",
       "      <td>jenn pelly</td>\n",
       "      <td>associate reviews editor</td>\n",
       "      <td>Kleenex began with a crash. It transpired one ...</td>\n",
       "    </tr>\n",
       "    <tr>\n",
       "      <th>3</th>\n",
       "      <td>kevin lozano</td>\n",
       "      <td>tracks coordinator</td>\n",
       "      <td>It is impossible to consider a given release b...</td>\n",
       "    </tr>\n",
       "    <tr>\n",
       "      <th>4</th>\n",
       "      <td>katherine st. asaph</td>\n",
       "      <td>contributor</td>\n",
       "      <td>Rapper Simbi Ajikawo, who records as Little Si...</td>\n",
       "    </tr>\n",
       "  </tbody>\n",
       "</table>\n",
       "</div>"
      ],
      "text/plain": [
       "                author               author_type  \\\n",
       "0          nate patrin               contributor   \n",
       "1             zoe camp               contributor   \n",
       "2           jenn pelly  associate reviews editor   \n",
       "3         kevin lozano        tracks coordinator   \n",
       "4  katherine st. asaph               contributor   \n",
       "\n",
       "                                             content  \n",
       "0  “Trip-hop” eventually became a ’90s punchline,...  \n",
       "1  Eight years, five albums, and two EPs in, the ...  \n",
       "2  Kleenex began with a crash. It transpired one ...  \n",
       "3  It is impossible to consider a given release b...  \n",
       "4  Rapper Simbi Ajikawo, who records as Little Si...  "
      ]
     },
     "execution_count": 34,
     "metadata": {},
     "output_type": "execute_result"
    }
   ],
   "source": [
    "# Querying for reviewers with more than 30 reviews as well as the content of\n",
    "# each of their reviews\n",
    "\n",
    "c.execute(\"\"\"SELECT author, author_type, content\n",
    "            FROM reviews\n",
    "            JOIN content\n",
    "            USING(reviewid)\n",
    "            WHERE author IN\n",
    "                (SELECT author\n",
    "                FROM reviews\n",
    "                GROUP BY author\n",
    "                HAVING count(author) >= 30)\n",
    "            ;\"\"\")\n",
    "\n",
    "# Creating a pandas dataframe from our SQLite query\n",
    "df = pd.DataFrame(c.fetchall())\n",
    "df.columns = [x[0] for x in c.description]\n",
    "df.head()"
   ]
  },
  {
   "cell_type": "code",
   "execution_count": 33,
   "metadata": {},
   "outputs": [
    {
     "data": {
      "text/plain": [
       "(16050, 3)"
      ]
     },
     "execution_count": 33,
     "metadata": {},
     "output_type": "execute_result"
    }
   ],
   "source": [
    "df.shape"
   ]
  },
  {
   "cell_type": "code",
   "execution_count": 32,
   "metadata": {},
   "outputs": [
    {
     "data": {
      "text/plain": [
       "119"
      ]
     },
     "execution_count": 32,
     "metadata": {},
     "output_type": "execute_result"
    }
   ],
   "source": [
    "authors = list(df[\"author\"].unique())\n",
    "len(authors)"
   ]
  },
  {
   "cell_type": "code",
   "execution_count": 37,
   "metadata": {},
   "outputs": [
    {
     "data": {
      "text/plain": [
       "joe tangari                   818\n",
       "stephen m. deusner            725\n",
       "ian cohen                     699\n",
       "brian howe                    500\n",
       "mark richardson               476\n",
       "stuart berman                 445\n",
       "marc hogan                    439\n",
       "nate patrin                   347\n",
       "marc masters                  312\n",
       "jayson greene                 299\n",
       "brandon stosuy                290\n",
       "grayson currin                289\n",
       "matthew murphy                274\n",
       "dominique leone               273\n",
       "jess harvell                  273\n",
       "andrew gaerig                 270\n",
       "jason crock                   270\n",
       "rob mitchum                   267\n",
       "andy beta                     250\n",
       "paul thompson                 222\n",
       "joshua klein                  217\n",
       "larry fitzmaurice             217\n",
       "chris dahlen                  214\n",
       "nick neyland                  211\n",
       "philip sherburne              209\n",
       "adam moerder                  209\n",
       "tom breihan                   208\n",
       "amanda petrusich              200\n",
       "matt lemay                    196\n",
       "ryan dombal                   174\n",
       "                             ... \n",
       "martin douglas                 46\n",
       "ryan kearney                   46\n",
       "sam chennault                  46\n",
       "roque strew                    45\n",
       "winston cook-wilson            44\n",
       "marcus j. moore                43\n",
       "alex linhardt                  42\n",
       "jamieson cox                   42\n",
       "jenn pelly                     41\n",
       "tom ewing                      41\n",
       "peter macia                    40\n",
       "jessica suarez                 38\n",
       "jeremy gordon                  38\n",
       "andy battaglia                 37\n",
       "meaghan garvey                 37\n",
       "hari ashurst                   37\n",
       "julianne escobedo shepherd     37\n",
       "michael idov                   36\n",
       "mike orme                      36\n",
       "nick mirov                     34\n",
       "andrew bryant                  33\n",
       "jeremy d. larson               33\n",
       "john motley                    33\n",
       "eric grandy                    32\n",
       "mark martelli                  32\n",
       "william morris                 31\n",
       "brent s. sirota                30\n",
       "camilo arturo leslie           30\n",
       "kevin adickes                  30\n",
       "carrie battan                  30\n",
       "Name: author, Length: 119, dtype: int64"
      ]
     },
     "execution_count": 37,
     "metadata": {},
     "output_type": "execute_result"
    }
   ],
   "source": [
    "df.author.value_counts()"
   ]
  },
  {
   "cell_type": "code",
   "execution_count": null,
   "metadata": {},
   "outputs": [],
   "source": []
  }
 ],
 "metadata": {
  "kernelspec": {
   "display_name": "Python 3",
   "language": "python",
   "name": "python3"
  },
  "language_info": {
   "codemirror_mode": {
    "name": "ipython",
    "version": 3
   },
   "file_extension": ".py",
   "mimetype": "text/x-python",
   "name": "python",
   "nbconvert_exporter": "python",
   "pygments_lexer": "ipython3",
   "version": "3.7.3"
  }
 },
 "nbformat": 4,
 "nbformat_minor": 2
}

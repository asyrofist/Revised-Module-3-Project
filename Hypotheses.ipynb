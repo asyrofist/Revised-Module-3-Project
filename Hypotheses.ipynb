{
 "cells": [
  {
   "cell_type": "markdown",
   "metadata": {},
   "source": [
    "## Pitchfork Review Examination\n",
    "\n",
    "**Our Stakeholders:** Pitchfork editorial team\n",
    "\n",
    "Our project is aimed towards the editorial team at Pitchfork. We examine reviews from January 1999 to January 2017 to determine whether ratings are statistically different within different categories - more specifically, we will examine differences in review scores between music genres, between record labels, between music labelled \"Best New Music\" and between reviewers. Our goal is to provide insight on possible biases within their reviews."
   ]
  },
  {
   "cell_type": "markdown",
   "metadata": {},
   "source": [
    "## Question 1: Bias by Genre - Francois\n",
    "\n",
    "Is there a difference between the ratings of one music genre and all other genres? In other words, does Pitchfork rate a certain genre more highly than others?\n",
    "\n",
    "- *Alternative Hypothesis:* There is a significant difference between ratings within genres.\n",
    "- *Null Hypothesis:* There is no significant difference between ratings within genres."
   ]
  },
  {
   "cell_type": "markdown",
   "metadata": {},
   "source": [
    "## Question 2: Bias by Label - Lindsey\n",
    "\n",
    "Are the albums from one label rated differently than the wider population? In other words, does Pitchfork rate a certain record label more highly (or more harshly) than others?\n",
    "\n",
    "- *Alternative Hypothesis:* Average Pitchfork reviews are significantly different for one record label compared to the others.\n",
    "- *Null Hypothesis:* Average Pitchfork reviews are not significantly different between record labels."
   ]
  },
  {
   "cell_type": "markdown",
   "metadata": {},
   "source": [
    "## Question 3: Score Threshold - Francois\n",
    "\n",
    "Do albums reviewed as \"Best New Music\" have a consistent score threshold? In other words, is there a score beyond which an album is considered 'great'/'best' and is then added to their \"Best New Music\" page?\n",
    "\n",
    "- *Alternative Hypothesis:* There is a significant scoring difference between \"Best New Music\" albums and the rest of the reviewed albums.\n",
    "- *Null Hypothesis:* There is no significant difference between the scores of \"Best New Music\" albums and the rest. "
   ]
  },
  {
   "cell_type": "markdown",
   "metadata": {},
   "source": [
    "## Question 4: Reviewers - Lindsey\n",
    "\n",
    "Is there a significant difference between average scores per reviewer? In other words, is there a most critical and least critical reviewer?\n",
    "\n",
    "Refer to baseball bayesian approach: https://www.linkedin.com/pulse/worst-hitter-history-major-league-baseball-bayesian-approach-damico/\n",
    "\n",
    "- *Alternative Hypothesis:* There will be one reviewer with significantly higher scores than other reviewers, and one reviewer with significantly lower scores than others.\n",
    "- *Null Hypothesis:* All reviewers will have statistically similar review scores.\n",
    "\n",
    "\n",
    "ALTERNATIVE: Using Document Classification with Naive Bayes, can you predict the author of a review?\n",
    "\n",
    "Steps:\n",
    "- remove common words (using list of common stop words)\n",
    "    - Francois helpfully slacked me the dictionary of the words\n",
    "- remove authors with less than 30 reviews (would only be relevant for authors who have written a few reviews for Pitchfork)\n",
    "    - this gives us a list of 115 potential authors to predict out of 400ish total authors"
   ]
  },
  {
   "cell_type": "markdown",
   "metadata": {},
   "source": [
    "###  Other Theorized Questions:\n",
    "\n",
    "- Has bias changed over time? Has Pitchfork become more or less critical over the years (so, average score is lower/higher)?\n",
    "- Examine weekday effect - we know that Sunday reviews are for classic albums, and would expect these to have a higher average score as this is a more highly curated list, but is it a statistically significant difference from albums reviewed on other days of the week?\n",
    "\n",
    "#### Potential level up:\n",
    "- Does a rating on pitchfork affect billboard chart placement?"
   ]
  }
 ],
 "metadata": {
  "kernelspec": {
   "display_name": "Python 3",
   "language": "python",
   "name": "python3"
  },
  "language_info": {
   "codemirror_mode": {
    "name": "ipython",
    "version": 3
   },
   "file_extension": ".py",
   "mimetype": "text/x-python",
   "name": "python",
   "nbconvert_exporter": "python",
   "pygments_lexer": "ipython3",
   "version": "3.7.3"
  }
 },
 "nbformat": 4,
 "nbformat_minor": 2
}

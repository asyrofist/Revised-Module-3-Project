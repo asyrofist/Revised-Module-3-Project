{
 "cells": [
  {
   "cell_type": "markdown",
   "metadata": {},
   "source": [
    "## Pitchfork Review Examination\n",
    "\n",
    "**Our Stakeholders:** Pitchfork editorial team\n",
    "\n",
    "Our project is aimed towards the editorial team at Pitchfork. We examine reviews from January 1999 to January 2017 to determine whether ratings are statistically different within different categories - more specifically, we will examine differences in review scores between music genres, between record labels and between music labeled \"Best New Music,\" plus we will try to use Document Classification with Naive Bayes to predict scores based on review content. Our goal is to provide insight on possible biases within their reviews."
   ]
  },
  {
   "cell_type": "markdown",
   "metadata": {},
   "source": [
    "## Question 1: Bias by Genre - Francois\n",
    "\n",
    "Is there a difference between the ratings of one music genre and all other genres? In other words, does Pitchfork rate a certain genre more highly than others?\n",
    "\n",
    "- *Alternative Hypothesis:* There is no significant difference between ratings within genres - we don't expect to see a difference between genres.\n",
    "- *Null Hypothesis:* There is a significant difference between ratings within genres."
   ]
  },
  {
   "cell_type": "markdown",
   "metadata": {},
   "source": [
    "## Question 2: Bias by Label - Lindsey\n",
    "\n",
    "Are the albums from one label rated differently than the wider population? In other words, does Pitchfork rate a certain record label more highly (or more harshly) than others?\n",
    "\n",
    "- *Alternative Hypothesis:* Average Pitchfork reviews are significantly different for one record label compared to the others.\n",
    "- *Null Hypothesis:* Average Pitchfork reviews are not significantly different between record labels."
   ]
  },
  {
   "cell_type": "markdown",
   "metadata": {},
   "source": [
    "## Question 3: Score Threshold - Francois\n",
    "\n",
    "Do albums reviewed as \"Best New Music\" have a consistent score threshold? In other words, is there a score beyond which an album is considered 'great'/'best' and is then added to their \"Best New Music\" page?\n",
    "\n",
    "- *Alternative Hypothesis:* There is a significant scoring difference between \"Best New Music\" albums and the rest of the reviewed albums.\n",
    "- *Null Hypothesis:* There is no significant difference between the scores of \"Best New Music\" albums and the rest. "
   ]
  },
  {
   "cell_type": "markdown",
   "metadata": {},
   "source": [
    "## Question 4: Score Prediction - Lindsey\n",
    "\n",
    "Can we use the content of a review to predict the score, using Document Classification with Naive Bayes?\n",
    "\n",
    "(This isn't really a hypothesis testing problem, but...)\n",
    "\n",
    "- *Alternative Hypothesis:* The words within the content of a review can be used to predict the score.\n",
    "- *Null Hypothesis:* The words within the reviews cannot be used to predict the score"
   ]
  }
 ],
 "metadata": {
  "kernelspec": {
   "display_name": "Python 3",
   "language": "python",
   "name": "python3"
  },
  "language_info": {
   "codemirror_mode": {
    "name": "ipython",
    "version": 3
   },
   "file_extension": ".py",
   "mimetype": "text/x-python",
   "name": "python",
   "nbconvert_exporter": "python",
   "pygments_lexer": "ipython3",
   "version": "3.7.3"
  }
 },
 "nbformat": 4,
 "nbformat_minor": 2
}

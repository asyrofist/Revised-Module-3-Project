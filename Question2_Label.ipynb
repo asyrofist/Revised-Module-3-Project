{
 "cells": [
  {
   "cell_type": "markdown",
   "metadata": {},
   "source": [
    "## Question 2: Bias by Label - Lindsey\n",
    "\n",
    "Are the albums from one label rated differently than the wider population? In other words, does Pitchfork rate a certain record label more highly (or more harshly)\n",
    "than others?\n",
    "\n",
    "- *Alternative Hypothesis:* Average Pitchfork reviews are significantly different for one record label compared to the others.\n",
    "- *Null Hypothesis:* Average Pitchfork reviews are not significantly different for different record labels."
   ]
  },
  {
   "cell_type": "code",
   "execution_count": 1,
   "metadata": {},
   "outputs": [],
   "source": [
    "# Imports\n",
    "\n",
    "import sqlite3\n",
    "import pandas as pd\n",
    "import numpy as np\n",
    "from scipy import stats \n",
    "import seaborn as sns\n",
    "import matplotlib.pyplot as plt\n",
    "from sklearn.model_selection import cross_val_score\n",
    "import statsmodels as sm\n",
    "from statsmodels.formula.api import ols\n",
    "from statsmodels.stats.power import TTestIndPower, TTestPower\n",
    "import operator"
   ]
  },
  {
   "cell_type": "code",
   "execution_count": 2,
   "metadata": {},
   "outputs": [],
   "source": [
    "# Creating connection to SQL database\n",
    "\n",
    "conn = sqlite3.Connection(\"database.sqlite\")\n",
    "c = conn.cursor()"
   ]
  },
  {
   "cell_type": "code",
   "execution_count": 3,
   "metadata": {},
   "outputs": [
    {
     "data": {
      "text/html": [
       "<div>\n",
       "<style scoped>\n",
       "    .dataframe tbody tr th:only-of-type {\n",
       "        vertical-align: middle;\n",
       "    }\n",
       "\n",
       "    .dataframe tbody tr th {\n",
       "        vertical-align: top;\n",
       "    }\n",
       "\n",
       "    .dataframe thead th {\n",
       "        text-align: right;\n",
       "    }\n",
       "</style>\n",
       "<table border=\"1\" class=\"dataframe\">\n",
       "  <thead>\n",
       "    <tr style=\"text-align: right;\">\n",
       "      <th></th>\n",
       "      <th>score</th>\n",
       "      <th>label</th>\n",
       "    </tr>\n",
       "  </thead>\n",
       "  <tbody>\n",
       "    <tr>\n",
       "      <th>0</th>\n",
       "      <td>9.3</td>\n",
       "      <td>virgin</td>\n",
       "    </tr>\n",
       "    <tr>\n",
       "      <th>1</th>\n",
       "      <td>7.9</td>\n",
       "      <td>hathenter</td>\n",
       "    </tr>\n",
       "    <tr>\n",
       "      <th>2</th>\n",
       "      <td>7.3</td>\n",
       "      <td>static shock</td>\n",
       "    </tr>\n",
       "    <tr>\n",
       "      <th>3</th>\n",
       "      <td>7.3</td>\n",
       "      <td>fashionable idiots</td>\n",
       "    </tr>\n",
       "    <tr>\n",
       "      <th>4</th>\n",
       "      <td>9.0</td>\n",
       "      <td>kill rock stars</td>\n",
       "    </tr>\n",
       "  </tbody>\n",
       "</table>\n",
       "</div>"
      ],
      "text/plain": [
       "   score               label\n",
       "0    9.3              virgin\n",
       "1    7.9           hathenter\n",
       "2    7.3        static shock\n",
       "3    7.3  fashionable idiots\n",
       "4    9.0     kill rock stars"
      ]
     },
     "execution_count": 3,
     "metadata": {},
     "output_type": "execute_result"
    }
   ],
   "source": [
    "# Querying for our review scores and record labels\n",
    "\n",
    "c.execute(\"\"\"SELECT score, \n",
    "                    label\n",
    "             FROM labels\n",
    "             JOIN reviews\n",
    "             USING(reviewid);\"\"\")\n",
    "\n",
    "# Creating a pandas dataframe from our SQLite query\n",
    "df = pd.DataFrame(c.fetchall())\n",
    "df.columns = [x[0] for x in c.description]\n",
    "df.head()"
   ]
  },
  {
   "cell_type": "code",
   "execution_count": 4,
   "metadata": {
    "scrolled": true
   },
   "outputs": [
    {
     "name": "stdout",
     "output_type": "stream",
     "text": [
      "<class 'pandas.core.frame.DataFrame'>\n",
      "RangeIndex: 20200 entries, 0 to 20199\n",
      "Data columns (total 2 columns):\n",
      "score    20200 non-null float64\n",
      "label    20162 non-null object\n",
      "dtypes: float64(1), object(1)\n",
      "memory usage: 315.7+ KB\n"
     ]
    }
   ],
   "source": [
    "df.info()"
   ]
  },
  {
   "cell_type": "code",
   "execution_count": 5,
   "metadata": {
    "scrolled": true
   },
   "outputs": [],
   "source": [
    "# Since we are looking specifically at scores as they relate to record \n",
    "# labels, we need to drop the albums where there is no label data\n",
    "\n",
    "# Dropping rows where label is null\n",
    "df.dropna(inplace=True)\n",
    "\n",
    "# There are also rows where label is blank, not null, so dropping those too\n",
    "list_empty_labels = list(df.loc[df[\"label\"] == \"\"].index)\n",
    "df = df.drop(list_empty_labels)"
   ]
  },
  {
   "cell_type": "code",
   "execution_count": 6,
   "metadata": {
    "scrolled": false
   },
   "outputs": [
    {
     "data": {
      "image/png": "[encoded data removed]",
      "text/plain": [
       "<Figure size 432x288 with 1 Axes>"
      ]
     },
     "metadata": {
      "needs_background": "light"
     },
     "output_type": "display_data"
    }
   ],
   "source": [
    "# Exploring the distribution of scores across all albums with label data\n",
    "sns.distplot(df[\"score\"])\n",
    "plt.xlabel(\"Score\")\n",
    "plt.ylabel(\"Frequency\")\n",
    "plt.title(\"Distribution of Album Review Scores\")\n",
    "plt.show()"
   ]
  },
  {
   "cell_type": "code",
   "execution_count": 7,
   "metadata": {
    "scrolled": false
   },
   "outputs": [
    {
     "data": {
      "text/html": [
       "<div>\n",
       "<style scoped>\n",
       "    .dataframe tbody tr th:only-of-type {\n",
       "        vertical-align: middle;\n",
       "    }\n",
       "\n",
       "    .dataframe tbody tr th {\n",
       "        vertical-align: top;\n",
       "    }\n",
       "\n",
       "    .dataframe thead th {\n",
       "        text-align: right;\n",
       "    }\n",
       "</style>\n",
       "<table border=\"1\" class=\"dataframe\">\n",
       "  <thead>\n",
       "    <tr style=\"text-align: right;\">\n",
       "      <th></th>\n",
       "      <th>score</th>\n",
       "    </tr>\n",
       "  </thead>\n",
       "  <tbody>\n",
       "    <tr>\n",
       "      <th>count</th>\n",
       "      <td>20153.000000</td>\n",
       "    </tr>\n",
       "    <tr>\n",
       "      <th>mean</th>\n",
       "      <td>7.002923</td>\n",
       "    </tr>\n",
       "    <tr>\n",
       "      <th>std</th>\n",
       "      <td>1.304778</td>\n",
       "    </tr>\n",
       "    <tr>\n",
       "      <th>min</th>\n",
       "      <td>0.000000</td>\n",
       "    </tr>\n",
       "    <tr>\n",
       "      <th>25%</th>\n",
       "      <td>6.400000</td>\n",
       "    </tr>\n",
       "    <tr>\n",
       "      <th>50%</th>\n",
       "      <td>7.200000</td>\n",
       "    </tr>\n",
       "    <tr>\n",
       "      <th>75%</th>\n",
       "      <td>7.800000</td>\n",
       "    </tr>\n",
       "    <tr>\n",
       "      <th>max</th>\n",
       "      <td>10.000000</td>\n",
       "    </tr>\n",
       "  </tbody>\n",
       "</table>\n",
       "</div>"
      ],
      "text/plain": [
       "              score\n",
       "count  20153.000000\n",
       "mean       7.002923\n",
       "std        1.304778\n",
       "min        0.000000\n",
       "25%        6.400000\n",
       "50%        7.200000\n",
       "75%        7.800000\n",
       "max       10.000000"
      ]
     },
     "execution_count": 7,
     "metadata": {},
     "output_type": "execute_result"
    }
   ],
   "source": [
    "# Initial descriptive statistics for all albums with label data\n",
    "df.describe()"
   ]
  },
  {
   "cell_type": "markdown",
   "metadata": {},
   "source": [
    "We can see that the average review across all albums with record label information is a 7. Now, the question is whether any of the average scores for a particular label is significantly different from that mean."
   ]
  },
  {
   "cell_type": "code",
   "execution_count": 8,
   "metadata": {
    "scrolled": true
   },
   "outputs": [
    {
     "data": {
      "text/html": [
       "<div>\n",
       "<style scoped>\n",
       "    .dataframe tbody tr th:only-of-type {\n",
       "        vertical-align: middle;\n",
       "    }\n",
       "\n",
       "    .dataframe tbody tr th {\n",
       "        vertical-align: top;\n",
       "    }\n",
       "\n",
       "    .dataframe thead th {\n",
       "        text-align: right;\n",
       "    }\n",
       "</style>\n",
       "<table border=\"1\" class=\"dataframe\">\n",
       "  <thead>\n",
       "    <tr style=\"text-align: right;\">\n",
       "      <th></th>\n",
       "      <th>avg_score</th>\n",
       "      <th>count</th>\n",
       "      <th>stdev</th>\n",
       "    </tr>\n",
       "    <tr>\n",
       "      <th>label</th>\n",
       "      <th></th>\n",
       "      <th></th>\n",
       "      <th></th>\n",
       "    </tr>\n",
       "  </thead>\n",
       "  <tbody>\n",
       "    <tr>\n",
       "      <th>deux</th>\n",
       "      <td>5.800000</td>\n",
       "      <td>1</td>\n",
       "      <td>NaN</td>\n",
       "    </tr>\n",
       "    <tr>\n",
       "      <th>!k7</th>\n",
       "      <td>6.943077</td>\n",
       "      <td>65</td>\n",
       "      <td>1.217191</td>\n",
       "    </tr>\n",
       "    <tr>\n",
       "      <th>+1</th>\n",
       "      <td>6.900000</td>\n",
       "      <td>3</td>\n",
       "      <td>0.953939</td>\n",
       "    </tr>\n",
       "    <tr>\n",
       "      <th>00:02:59</th>\n",
       "      <td>7.400000</td>\n",
       "      <td>1</td>\n",
       "      <td>NaN</td>\n",
       "    </tr>\n",
       "    <tr>\n",
       "      <th>1-2-3-4 go!</th>\n",
       "      <td>6.750000</td>\n",
       "      <td>2</td>\n",
       "      <td>1.343503</td>\n",
       "    </tr>\n",
       "  </tbody>\n",
       "</table>\n",
       "</div>"
      ],
      "text/plain": [
       "             avg_score  count     stdev\n",
       "label                                  \n",
       " deux         5.800000      1       NaN\n",
       "!k7           6.943077     65  1.217191\n",
       "+1            6.900000      3  0.953939\n",
       "00:02:59      7.400000      1       NaN\n",
       "1-2-3-4 go!   6.750000      2  1.343503"
      ]
     },
     "execution_count": 8,
     "metadata": {},
     "output_type": "execute_result"
    }
   ],
   "source": [
    "# Creating a new dataframe specifically looking at instances of our labels\n",
    "\n",
    "# Creating a column for average scores\n",
    "label_df = df.groupby(\"label\").mean()[[\"score\"]]\n",
    "label_df.rename(columns={\"score\": \"avg_score\"}, inplace=True)\n",
    "\n",
    "# Adding a column with the count of each label to our new label dataframe\n",
    "label_df[\"count\"] = df.groupby(\"label\").count()[[\"score\"]]\n",
    "\n",
    "# Also adding a column with the standard deviation between the scores of each\n",
    "# label, for later analysis\n",
    "label_df[\"stdev\"] = df.groupby(\"label\").std()[[\"score\"]]\n",
    "\n",
    "label_df.head()"
   ]
  },
  {
   "cell_type": "code",
   "execution_count": 59,
   "metadata": {},
   "outputs": [
    {
     "data": {
      "text/plain": [
       "(3666, 3)"
      ]
     },
     "execution_count": 59,
     "metadata": {},
     "output_type": "execute_result"
    }
   ],
   "source": [
    "label_df.shape"
   ]
  },
  {
   "cell_type": "code",
   "execution_count": 9,
   "metadata": {},
   "outputs": [
    {
     "data": {
      "image/png": "[encoded data removed]",
      "text/plain": [
       "<Figure size 432x288 with 1 Axes>"
      ]
     },
     "metadata": {
      "needs_background": "light"
     },
     "output_type": "display_data"
    }
   ],
   "source": [
    "# Initial exploration: Examining the relationship between average review score \n",
    "# and number of reviews per record label\n",
    "\n",
    "sns.scatterplot(x=label_df[\"avg_score\"], y=label_df[\"count\"])\n",
    "plt.xlabel(\"Average Score\")\n",
    "plt.ylabel(\"Number of Reviews\")\n",
    "plt.title(\"Relationship Between the Number of Reviews \\n\"\n",
    "          + \"and the Average Score per Record Label\")\n",
    "plt.show()"
   ]
  },
  {
   "cell_type": "code",
   "execution_count": 10,
   "metadata": {
    "scrolled": true
   },
   "outputs": [
    {
     "data": {
      "text/html": [
       "<div>\n",
       "<style scoped>\n",
       "    .dataframe tbody tr th:only-of-type {\n",
       "        vertical-align: middle;\n",
       "    }\n",
       "\n",
       "    .dataframe tbody tr th {\n",
       "        vertical-align: top;\n",
       "    }\n",
       "\n",
       "    .dataframe thead th {\n",
       "        text-align: right;\n",
       "    }\n",
       "</style>\n",
       "<table border=\"1\" class=\"dataframe\">\n",
       "  <thead>\n",
       "    <tr style=\"text-align: right;\">\n",
       "      <th></th>\n",
       "      <th>avg_score</th>\n",
       "      <th>count</th>\n",
       "      <th>stdev</th>\n",
       "    </tr>\n",
       "  </thead>\n",
       "  <tbody>\n",
       "    <tr>\n",
       "      <th>count</th>\n",
       "      <td>3666.000000</td>\n",
       "      <td>3666.000000</td>\n",
       "      <td>1637.000000</td>\n",
       "    </tr>\n",
       "    <tr>\n",
       "      <th>mean</th>\n",
       "      <td>6.992975</td>\n",
       "      <td>5.497272</td>\n",
       "      <td>0.935161</td>\n",
       "    </tr>\n",
       "    <tr>\n",
       "      <th>std</th>\n",
       "      <td>1.075392</td>\n",
       "      <td>17.986523</td>\n",
       "      <td>0.636676</td>\n",
       "    </tr>\n",
       "    <tr>\n",
       "      <th>min</th>\n",
       "      <td>0.200000</td>\n",
       "      <td>1.000000</td>\n",
       "      <td>0.000000</td>\n",
       "    </tr>\n",
       "    <tr>\n",
       "      <th>25%</th>\n",
       "      <td>6.500000</td>\n",
       "      <td>1.000000</td>\n",
       "      <td>0.463896</td>\n",
       "    </tr>\n",
       "    <tr>\n",
       "      <th>50%</th>\n",
       "      <td>7.166667</td>\n",
       "      <td>1.000000</td>\n",
       "      <td>0.820366</td>\n",
       "    </tr>\n",
       "    <tr>\n",
       "      <th>75%</th>\n",
       "      <td>7.700000</td>\n",
       "      <td>3.000000</td>\n",
       "      <td>1.272792</td>\n",
       "    </tr>\n",
       "    <tr>\n",
       "      <th>max</th>\n",
       "      <td>10.000000</td>\n",
       "      <td>420.000000</td>\n",
       "      <td>4.525483</td>\n",
       "    </tr>\n",
       "  </tbody>\n",
       "</table>\n",
       "</div>"
      ],
      "text/plain": [
       "         avg_score        count        stdev\n",
       "count  3666.000000  3666.000000  1637.000000\n",
       "mean      6.992975     5.497272     0.935161\n",
       "std       1.075392    17.986523     0.636676\n",
       "min       0.200000     1.000000     0.000000\n",
       "25%       6.500000     1.000000     0.463896\n",
       "50%       7.166667     1.000000     0.820366\n",
       "75%       7.700000     3.000000     1.272792\n",
       "max      10.000000   420.000000     4.525483"
      ]
     },
     "execution_count": 10,
     "metadata": {},
     "output_type": "execute_result"
    }
   ],
   "source": [
    "# Examining the descriptive stats \n",
    "label_df.describe()"
   ]
  },
  {
   "cell_type": "code",
   "execution_count": 11,
   "metadata": {},
   "outputs": [
    {
     "data": {
      "image/png": "[encoded data removed]",
      "text/plain": [
       "<Figure size 432x288 with 1 Axes>"
      ]
     },
     "metadata": {
      "needs_background": "light"
     },
     "output_type": "display_data"
    }
   ],
   "source": [
    "# Plotting the distribution of the average scores per record label\n",
    "\n",
    "sns.distplot(label_df[\"avg_score\"])\n",
    "plt.xlabel(\"Average Scores (per record label)\")\n",
    "plt.ylabel(\"Frequency\")\n",
    "plt.title(\"Distribution of the Average Scores per Record Label\")\n",
    "plt.show()"
   ]
  },
  {
   "cell_type": "code",
   "execution_count": 12,
   "metadata": {
    "scrolled": true
   },
   "outputs": [
    {
     "data": {
      "image/png": "[encoded data removed]",
      "text/plain": [
       "<Figure size 432x288 with 1 Axes>"
      ]
     },
     "metadata": {
      "needs_background": "light"
     },
     "output_type": "display_data"
    }
   ],
   "source": [
    "# Plotting the distribution of the number of reviews per record label\n",
    "\n",
    "sns.distplot(label_df[\"count\"])\n",
    "plt.xlabel(\"Number of Reviews (per record label)\")\n",
    "plt.ylabel(\"Frequency\")\n",
    "plt.title(\"Distribution of the Number of Reviews per Record Label\")\n",
    "plt.show()"
   ]
  },
  {
   "cell_type": "markdown",
   "metadata": {},
   "source": [
    "When we look at the description and distribution plot above, we can see that most of our record labels only have one review each. If we were to simply sort our record labels based on average review scores, we might falsely come to the conclusion that the reviewers at the top or bottom of the list are the best record labels according to Pitchfork.\n",
    "\n",
    "To illustrate:"
   ]
  },
  {
   "cell_type": "code",
   "execution_count": 13,
   "metadata": {
    "scrolled": true
   },
   "outputs": [
    {
     "data": {
      "text/html": [
       "<div>\n",
       "<style scoped>\n",
       "    .dataframe tbody tr th:only-of-type {\n",
       "        vertical-align: middle;\n",
       "    }\n",
       "\n",
       "    .dataframe tbody tr th {\n",
       "        vertical-align: top;\n",
       "    }\n",
       "\n",
       "    .dataframe thead th {\n",
       "        text-align: right;\n",
       "    }\n",
       "</style>\n",
       "<table border=\"1\" class=\"dataframe\">\n",
       "  <thead>\n",
       "    <tr style=\"text-align: right;\">\n",
       "      <th></th>\n",
       "      <th>avg_score</th>\n",
       "      <th>count</th>\n",
       "      <th>stdev</th>\n",
       "    </tr>\n",
       "    <tr>\n",
       "      <th>label</th>\n",
       "      <th></th>\n",
       "      <th></th>\n",
       "      <th></th>\n",
       "    </tr>\n",
       "  </thead>\n",
       "  <tbody>\n",
       "    <tr>\n",
       "      <th>rolling stones</th>\n",
       "      <td>10.0</td>\n",
       "      <td>1</td>\n",
       "      <td>NaN</td>\n",
       "    </tr>\n",
       "    <tr>\n",
       "      <th>geffen/get on down</th>\n",
       "      <td>10.0</td>\n",
       "      <td>1</td>\n",
       "      <td>NaN</td>\n",
       "    </tr>\n",
       "    <tr>\n",
       "      <th>enigma</th>\n",
       "      <td>10.0</td>\n",
       "      <td>1</td>\n",
       "      <td>NaN</td>\n",
       "    </tr>\n",
       "    <tr>\n",
       "      <th>volt</th>\n",
       "      <td>10.0</td>\n",
       "      <td>1</td>\n",
       "      <td>NaN</td>\n",
       "    </tr>\n",
       "    <tr>\n",
       "      <th>ace of hearts</th>\n",
       "      <td>9.8</td>\n",
       "      <td>1</td>\n",
       "      <td>NaN</td>\n",
       "    </tr>\n",
       "  </tbody>\n",
       "</table>\n",
       "</div>"
      ],
      "text/plain": [
       "                    avg_score  count  stdev\n",
       "label                                      \n",
       "rolling stones           10.0      1    NaN\n",
       "geffen/get on down       10.0      1    NaN\n",
       "enigma                   10.0      1    NaN\n",
       "volt                     10.0      1    NaN\n",
       "ace of hearts             9.8      1    NaN"
      ]
     },
     "execution_count": 13,
     "metadata": {},
     "output_type": "execute_result"
    }
   ],
   "source": [
    "# Looking simply at the top of the list, the labels with the highest scores\n",
    "label_df.sort_values(\"avg_score\", ascending=False).head()"
   ]
  },
  {
   "cell_type": "code",
   "execution_count": 14,
   "metadata": {},
   "outputs": [
    {
     "data": {
      "text/html": [
       "<div>\n",
       "<style scoped>\n",
       "    .dataframe tbody tr th:only-of-type {\n",
       "        vertical-align: middle;\n",
       "    }\n",
       "\n",
       "    .dataframe tbody tr th {\n",
       "        vertical-align: top;\n",
       "    }\n",
       "\n",
       "    .dataframe thead th {\n",
       "        text-align: right;\n",
       "    }\n",
       "</style>\n",
       "<table border=\"1\" class=\"dataframe\">\n",
       "  <thead>\n",
       "    <tr style=\"text-align: right;\">\n",
       "      <th></th>\n",
       "      <th>avg_score</th>\n",
       "      <th>count</th>\n",
       "      <th>stdev</th>\n",
       "    </tr>\n",
       "    <tr>\n",
       "      <th>label</th>\n",
       "      <th></th>\n",
       "      <th></th>\n",
       "      <th></th>\n",
       "    </tr>\n",
       "  </thead>\n",
       "  <tbody>\n",
       "    <tr>\n",
       "      <th>mud</th>\n",
       "      <td>0.2</td>\n",
       "      <td>1</td>\n",
       "      <td>NaN</td>\n",
       "    </tr>\n",
       "    <tr>\n",
       "      <th>buddyhead</th>\n",
       "      <td>0.2</td>\n",
       "      <td>1</td>\n",
       "      <td>NaN</td>\n",
       "    </tr>\n",
       "    <tr>\n",
       "      <th>compadre</th>\n",
       "      <td>0.2</td>\n",
       "      <td>1</td>\n",
       "      <td>NaN</td>\n",
       "    </tr>\n",
       "    <tr>\n",
       "      <th>boojm</th>\n",
       "      <td>1.2</td>\n",
       "      <td>1</td>\n",
       "      <td>NaN</td>\n",
       "    </tr>\n",
       "    <tr>\n",
       "      <th>trashy moped</th>\n",
       "      <td>1.5</td>\n",
       "      <td>2</td>\n",
       "      <td>0.0</td>\n",
       "    </tr>\n",
       "  </tbody>\n",
       "</table>\n",
       "</div>"
      ],
      "text/plain": [
       "              avg_score  count  stdev\n",
       "label                                \n",
       "mud                 0.2      1    NaN\n",
       "buddyhead           0.2      1    NaN\n",
       "compadre            0.2      1    NaN\n",
       "boojm               1.2      1    NaN\n",
       "trashy moped        1.5      2    0.0"
      ]
     },
     "execution_count": 14,
     "metadata": {},
     "output_type": "execute_result"
    }
   ],
   "source": [
    "# Looking simply at the bottom of the list, the labels with the lowest scores\n",
    "label_df.sort_values(\"avg_score\", ascending=True).head()"
   ]
  },
  {
   "cell_type": "markdown",
   "metadata": {},
   "source": [
    "Note that all of the record labels with both the best and the worst scores have only one review. Does that truly mean that albums from those labels are rated differently than the rest of the record labels? Probably not!\n",
    "\n",
    "Knowing that having just a few reviews is not enough information to work with, I'm going to cull the record labels to remove any who have fewer than five reviews, and see how this changes the distribution of my data."
   ]
  },
  {
   "cell_type": "code",
   "execution_count": 15,
   "metadata": {},
   "outputs": [
    {
     "data": {
      "text/html": [
       "<div>\n",
       "<style scoped>\n",
       "    .dataframe tbody tr th:only-of-type {\n",
       "        vertical-align: middle;\n",
       "    }\n",
       "\n",
       "    .dataframe tbody tr th {\n",
       "        vertical-align: top;\n",
       "    }\n",
       "\n",
       "    .dataframe thead th {\n",
       "        text-align: right;\n",
       "    }\n",
       "</style>\n",
       "<table border=\"1\" class=\"dataframe\">\n",
       "  <thead>\n",
       "    <tr style=\"text-align: right;\">\n",
       "      <th></th>\n",
       "      <th>avg_score</th>\n",
       "      <th>count</th>\n",
       "      <th>stdev</th>\n",
       "    </tr>\n",
       "    <tr>\n",
       "      <th>label</th>\n",
       "      <th></th>\n",
       "      <th></th>\n",
       "      <th></th>\n",
       "    </tr>\n",
       "  </thead>\n",
       "  <tbody>\n",
       "    <tr>\n",
       "      <th>!k7</th>\n",
       "      <td>6.943077</td>\n",
       "      <td>65</td>\n",
       "      <td>1.217191</td>\n",
       "    </tr>\n",
       "    <tr>\n",
       "      <th>100% silk</th>\n",
       "      <td>7.112500</td>\n",
       "      <td>8</td>\n",
       "      <td>0.352288</td>\n",
       "    </tr>\n",
       "    <tr>\n",
       "      <th>1017 brick squad</th>\n",
       "      <td>7.157143</td>\n",
       "      <td>7</td>\n",
       "      <td>0.789213</td>\n",
       "    </tr>\n",
       "    <tr>\n",
       "      <th>12xu</th>\n",
       "      <td>7.760000</td>\n",
       "      <td>5</td>\n",
       "      <td>0.207364</td>\n",
       "    </tr>\n",
       "    <tr>\n",
       "      <th>130701</th>\n",
       "      <td>7.640000</td>\n",
       "      <td>5</td>\n",
       "      <td>1.272006</td>\n",
       "    </tr>\n",
       "  </tbody>\n",
       "</table>\n",
       "</div>"
      ],
      "text/plain": [
       "                  avg_score  count     stdev\n",
       "label                                       \n",
       "!k7                6.943077     65  1.217191\n",
       "100% silk          7.112500      8  0.352288\n",
       "1017 brick squad   7.157143      7  0.789213\n",
       "12xu               7.760000      5  0.207364\n",
       "130701             7.640000      5  1.272006"
      ]
     },
     "execution_count": 15,
     "metadata": {},
     "output_type": "execute_result"
    }
   ],
   "source": [
    "# Making a new dataframe without labels with fewer than five reviews\n",
    "# Note that this removes 2419 rows (labels)!\n",
    "\n",
    "culled_label_df = label_df.loc[label_df[\"count\"] >= 5]\n",
    "culled_label_df.head()"
   ]
  },
  {
   "cell_type": "code",
   "execution_count": 16,
   "metadata": {
    "scrolled": true
   },
   "outputs": [
    {
     "data": {
      "text/html": [
       "<div>\n",
       "<style scoped>\n",
       "    .dataframe tbody tr th:only-of-type {\n",
       "        vertical-align: middle;\n",
       "    }\n",
       "\n",
       "    .dataframe tbody tr th {\n",
       "        vertical-align: top;\n",
       "    }\n",
       "\n",
       "    .dataframe thead th {\n",
       "        text-align: right;\n",
       "    }\n",
       "</style>\n",
       "<table border=\"1\" class=\"dataframe\">\n",
       "  <thead>\n",
       "    <tr style=\"text-align: right;\">\n",
       "      <th></th>\n",
       "      <th>avg_score</th>\n",
       "      <th>count</th>\n",
       "      <th>stdev</th>\n",
       "    </tr>\n",
       "  </thead>\n",
       "  <tbody>\n",
       "    <tr>\n",
       "      <th>count</th>\n",
       "      <td>670.000000</td>\n",
       "      <td>670.000000</td>\n",
       "      <td>670.000000</td>\n",
       "    </tr>\n",
       "    <tr>\n",
       "      <th>mean</th>\n",
       "      <td>7.008527</td>\n",
       "      <td>23.367164</td>\n",
       "      <td>1.104683</td>\n",
       "    </tr>\n",
       "    <tr>\n",
       "      <th>std</th>\n",
       "      <td>0.576928</td>\n",
       "      <td>37.120047</td>\n",
       "      <td>0.492636</td>\n",
       "    </tr>\n",
       "    <tr>\n",
       "      <th>min</th>\n",
       "      <td>5.085714</td>\n",
       "      <td>5.000000</td>\n",
       "      <td>0.044721</td>\n",
       "    </tr>\n",
       "    <tr>\n",
       "      <th>25%</th>\n",
       "      <td>6.655625</td>\n",
       "      <td>6.000000</td>\n",
       "      <td>0.742630</td>\n",
       "    </tr>\n",
       "    <tr>\n",
       "      <th>50%</th>\n",
       "      <td>7.060000</td>\n",
       "      <td>11.000000</td>\n",
       "      <td>1.044185</td>\n",
       "    </tr>\n",
       "    <tr>\n",
       "      <th>75%</th>\n",
       "      <td>7.400000</td>\n",
       "      <td>23.000000</td>\n",
       "      <td>1.418028</td>\n",
       "    </tr>\n",
       "    <tr>\n",
       "      <th>max</th>\n",
       "      <td>8.916667</td>\n",
       "      <td>420.000000</td>\n",
       "      <td>3.059412</td>\n",
       "    </tr>\n",
       "  </tbody>\n",
       "</table>\n",
       "</div>"
      ],
      "text/plain": [
       "        avg_score       count       stdev\n",
       "count  670.000000  670.000000  670.000000\n",
       "mean     7.008527   23.367164    1.104683\n",
       "std      0.576928   37.120047    0.492636\n",
       "min      5.085714    5.000000    0.044721\n",
       "25%      6.655625    6.000000    0.742630\n",
       "50%      7.060000   11.000000    1.044185\n",
       "75%      7.400000   23.000000    1.418028\n",
       "max      8.916667  420.000000    3.059412"
      ]
     },
     "execution_count": 16,
     "metadata": {},
     "output_type": "execute_result"
    }
   ],
   "source": [
    "culled_label_df.describe()"
   ]
  },
  {
   "cell_type": "code",
   "execution_count": 17,
   "metadata": {},
   "outputs": [
    {
     "data": {
      "text/html": [
       "<div>\n",
       "<style scoped>\n",
       "    .dataframe tbody tr th:only-of-type {\n",
       "        vertical-align: middle;\n",
       "    }\n",
       "\n",
       "    .dataframe tbody tr th {\n",
       "        vertical-align: top;\n",
       "    }\n",
       "\n",
       "    .dataframe thead th {\n",
       "        text-align: right;\n",
       "    }\n",
       "</style>\n",
       "<table border=\"1\" class=\"dataframe\">\n",
       "  <thead>\n",
       "    <tr style=\"text-align: right;\">\n",
       "      <th></th>\n",
       "      <th>avg_score</th>\n",
       "      <th>count</th>\n",
       "      <th>stdev</th>\n",
       "    </tr>\n",
       "    <tr>\n",
       "      <th>label</th>\n",
       "      <th></th>\n",
       "      <th></th>\n",
       "      <th></th>\n",
       "    </tr>\n",
       "  </thead>\n",
       "  <tbody>\n",
       "    <tr>\n",
       "      <th>philips</th>\n",
       "      <td>8.916667</td>\n",
       "      <td>6</td>\n",
       "      <td>0.796032</td>\n",
       "    </tr>\n",
       "    <tr>\n",
       "      <th>irs</th>\n",
       "      <td>8.842857</td>\n",
       "      <td>7</td>\n",
       "      <td>1.073712</td>\n",
       "    </tr>\n",
       "    <tr>\n",
       "      <th>dust-to-digital</th>\n",
       "      <td>8.733333</td>\n",
       "      <td>12</td>\n",
       "      <td>0.505125</td>\n",
       "    </tr>\n",
       "    <tr>\n",
       "      <th>revenant</th>\n",
       "      <td>8.640000</td>\n",
       "      <td>5</td>\n",
       "      <td>0.820366</td>\n",
       "    </tr>\n",
       "    <tr>\n",
       "      <th>flydaddy</th>\n",
       "      <td>8.620000</td>\n",
       "      <td>5</td>\n",
       "      <td>0.858487</td>\n",
       "    </tr>\n",
       "  </tbody>\n",
       "</table>\n",
       "</div>"
      ],
      "text/plain": [
       "                 avg_score  count     stdev\n",
       "label                                      \n",
       "philips           8.916667      6  0.796032\n",
       "irs               8.842857      7  1.073712\n",
       "dust-to-digital   8.733333     12  0.505125\n",
       "revenant          8.640000      5  0.820366\n",
       "flydaddy          8.620000      5  0.858487"
      ]
     },
     "execution_count": 17,
     "metadata": {},
     "output_type": "execute_result"
    }
   ],
   "source": [
    "# Examining the labels with more than five reviews that have the highest \n",
    "# average scores\n",
    "culled_label_df.sort_values(\"avg_score\", ascending=False).head()"
   ]
  },
  {
   "cell_type": "code",
   "execution_count": 18,
   "metadata": {
    "scrolled": false
   },
   "outputs": [
    {
     "data": {
      "text/html": [
       "<div>\n",
       "<style scoped>\n",
       "    .dataframe tbody tr th:only-of-type {\n",
       "        vertical-align: middle;\n",
       "    }\n",
       "\n",
       "    .dataframe tbody tr th {\n",
       "        vertical-align: top;\n",
       "    }\n",
       "\n",
       "    .dataframe thead th {\n",
       "        text-align: right;\n",
       "    }\n",
       "</style>\n",
       "<table border=\"1\" class=\"dataframe\">\n",
       "  <thead>\n",
       "    <tr style=\"text-align: right;\">\n",
       "      <th></th>\n",
       "      <th>avg_score</th>\n",
       "      <th>count</th>\n",
       "      <th>stdev</th>\n",
       "    </tr>\n",
       "    <tr>\n",
       "      <th>label</th>\n",
       "      <th></th>\n",
       "      <th></th>\n",
       "      <th></th>\n",
       "    </tr>\n",
       "  </thead>\n",
       "  <tbody>\n",
       "    <tr>\n",
       "      <th>almost gold</th>\n",
       "      <td>5.085714</td>\n",
       "      <td>7</td>\n",
       "      <td>2.041591</td>\n",
       "    </tr>\n",
       "    <tr>\n",
       "      <th>shady</th>\n",
       "      <td>5.140000</td>\n",
       "      <td>10</td>\n",
       "      <td>1.708280</td>\n",
       "    </tr>\n",
       "    <tr>\n",
       "      <th>ultra</th>\n",
       "      <td>5.266667</td>\n",
       "      <td>6</td>\n",
       "      <td>1.835938</td>\n",
       "    </tr>\n",
       "    <tr>\n",
       "      <th>burning heart</th>\n",
       "      <td>5.271429</td>\n",
       "      <td>7</td>\n",
       "      <td>1.945691</td>\n",
       "    </tr>\n",
       "    <tr>\n",
       "      <th>rostrum</th>\n",
       "      <td>5.360000</td>\n",
       "      <td>5</td>\n",
       "      <td>2.620687</td>\n",
       "    </tr>\n",
       "  </tbody>\n",
       "</table>\n",
       "</div>"
      ],
      "text/plain": [
       "               avg_score  count     stdev\n",
       "label                                    \n",
       "almost gold     5.085714      7  2.041591\n",
       "shady           5.140000     10  1.708280\n",
       "ultra           5.266667      6  1.835938\n",
       "burning heart   5.271429      7  1.945691\n",
       "rostrum         5.360000      5  2.620687"
      ]
     },
     "execution_count": 18,
     "metadata": {},
     "output_type": "execute_result"
    }
   ],
   "source": [
    "# Examining the labels with more than five reviews that have the lowest \n",
    "# average scores\n",
    "culled_label_df.sort_values(\"avg_score\", ascending=True).head()"
   ]
  },
  {
   "cell_type": "code",
   "execution_count": 19,
   "metadata": {},
   "outputs": [
    {
     "data": {
      "image/png": "[encoded data removed]",
      "text/plain": [
       "<Figure size 432x288 with 1 Axes>"
      ]
     },
     "metadata": {
      "needs_background": "light"
     },
     "output_type": "display_data"
    }
   ],
   "source": [
    "# Plotting the distribution of the average scores per record label with more\n",
    "# than five reviews\n",
    "\n",
    "sns.distplot(culled_label_df[\"avg_score\"])\n",
    "plt.xlabel(\"Average Scores (per record label)\")\n",
    "plt.ylabel(\"Frequency\")\n",
    "plt.title(\"Distribution of the Average Score per Record Label \\n\"\n",
    "          + \"for Record Labels with 5+ Reviews\")\n",
    "plt.show()"
   ]
  },
  {
   "cell_type": "code",
   "execution_count": 20,
   "metadata": {
    "scrolled": true
   },
   "outputs": [
    {
     "data": {
      "image/png": "[encoded data removed]",
      "text/plain": [
       "<Figure size 432x288 with 1 Axes>"
      ]
     },
     "metadata": {
      "needs_background": "light"
     },
     "output_type": "display_data"
    }
   ],
   "source": [
    "# Plotting the frequency of the number of reviews per record label with more\n",
    "# than five reviews\n",
    "\n",
    "sns.distplot(culled_label_df[\"count\"])\n",
    "plt.xlabel(\"Number of Reviews (per record label)\")\n",
    "plt.ylabel(\"Frequency\")\n",
    "plt.title(\"Distribution of the Number of Reviews per Record Label \\n\"\n",
    "          + \"for Record Labels with 5+ Reviews\")\n",
    "plt.show()"
   ]
  },
  {
   "cell_type": "markdown",
   "metadata": {},
   "source": [
    "## Comparing Effect Sizes"
   ]
  },
  {
   "cell_type": "markdown",
   "metadata": {},
   "source": [
    "In order to examine the difference between one record label's average score and the overall average score, we need to find the effect size to put our record labels on the same scale to convey practical significance.\n",
    "\n",
    "Given that we know the sample size for each record label, from the 'count' column, we can examine what our minimum effect size should be to show significance for each record label, provided that we want an alpha of .01 and a power of 80%:"
   ]
  },
  {
   "cell_type": "code",
   "execution_count": 21,
   "metadata": {
    "scrolled": false
   },
   "outputs": [],
   "source": [
    "# Using TTestPower from the statsmodels.stats.power library\n",
    "tt_test = TTestPower()\n",
    "\n",
    "# Creating an empty dictionary for our necessary effect sizes\n",
    "dict_needed_effects = {}\n",
    "\n",
    "# Iterating through labels to add values to our needed effects dictionary\n",
    "for label in culled_label_df.index:\n",
    "    # Getting the sample size per record label, since each sample is \n",
    "    sample_size = culled_label_df.loc[label][\"count\"]\n",
    "    \n",
    "    # Leaving the effect_size variable in solve_power() as None, so the \n",
    "    # function solves for effect size\n",
    "    needed_effect_size = tt_test.solve_power(\n",
    "        nobs=sample_size, alpha=.01, power=.8, alternative=\"two-sided\")\n",
    "\n",
    "    dict_needed_effects[label] = needed_effect_size"
   ]
  },
  {
   "cell_type": "code",
   "execution_count": 22,
   "metadata": {},
   "outputs": [
    {
     "name": "stdout",
     "output_type": "stream",
     "text": [
      "0.16741780628417785\n",
      "2.62897413958625\n"
     ]
    }
   ],
   "source": [
    "# Sorting so we can see the smallest and largest necessary effect sizes\n",
    "sorted_needed_effects = sorted(\n",
    "    dict_needed_effects.items(), key=operator.itemgetter(1))\n",
    "print(sorted_needed_effects[0][1])\n",
    "print(sorted_needed_effects[-1][1])"
   ]
  },
  {
   "cell_type": "markdown",
   "metadata": {},
   "source": [
    "As you can see, there is quite the range in the effect size needed to show significance per record label. This is because the sample size for each record label is quite different - while we created the cutoff so we are only looking at record labels with at least five reviews, our maximum number of reviews is 420, giving us a pretty wide sample size range."
   ]
  },
  {
   "cell_type": "markdown",
   "metadata": {},
   "source": [
    "So let's look at the actual effect size for each record label! We can calculate the actual effect size between each record label and total group of all record labels with at least five reviews with the formula:\n",
    "\n",
    " $$ d = \\dfrac{\\mu_1 - \\mu_2}{\\sqrt{\\dfrac{\\sigma_1^2 + \\sigma_2^2}{2}}}$$  \n",
    " \n",
    "Which can be read as: the standardized difference between our two groups is the difference in means divided by the pooled standard deviation, where the pooled standard deviation is the square root of the average of the squared standard deviations.\n",
    "\n",
    "In context:\n",
    "\n",
    " $$ \\text{standardized difference} = \\dfrac{\\text{average score for each record label}- \\text{average score for all record labels with 5+ reviews}}{\\sqrt{\\dfrac{\\text{standard deviation within each record label}^2 + \\text{standard deviation for all record labels with 5+ reviews}^2}{2}}}$$  \n",
    " \n",
    "Note that this will result some positive and some negative effect sizes, showing the direction of the effect per record label."
   ]
  },
  {
   "cell_type": "code",
   "execution_count": 23,
   "metadata": {
    "scrolled": true
   },
   "outputs": [
    {
     "name": "stdout",
     "output_type": "stream",
     "text": [
      "7.008526773798876\n",
      "0.5769279276330926\n"
     ]
    }
   ],
   "source": [
    "# Grabbing the overall average score for all albums associated with a record \n",
    "# label with at least five reviews\n",
    "overall_mean = culled_label_df[\"avg_score\"].mean()\n",
    "# Grabbing the overall standard deviation for the same group\n",
    "overall_std = culled_label_df[\"avg_score\"].std()\n",
    "\n",
    "print(overall_mean)\n",
    "print(overall_std)"
   ]
  },
  {
   "cell_type": "code",
   "execution_count": 90,
   "metadata": {
    "scrolled": true
   },
   "outputs": [],
   "source": [
    "# Creating an empty dictionary for our actual effect sizes\n",
    "dict_effect_sizes = {}\n",
    "\n",
    "# Iterating through labels to add values to our actual effects dictionary\n",
    "for label in culled_label_df.index:\n",
    "    \n",
    "    #Calculating effect size from the above function\n",
    "    effect_size = (culled_label_df.loc[label][\"avg_score\"] - overall_mean) / ((\n",
    "        culled_label_df.loc[label][\"stdev\"]**2 + overall_std**2)/2)**.5\n",
    "    \n",
    "    dict_effect_sizes[label] = effect_size"
   ]
  },
  {
   "cell_type": "code",
   "execution_count": 91,
   "metadata": {},
   "outputs": [
    {
     "data": {
      "image/png": "[encoded data removed]",
      "text/plain": [
       "<Figure size 432x288 with 1 Axes>"
      ]
     },
     "metadata": {
      "needs_background": "light"
     },
     "output_type": "display_data"
    }
   ],
   "source": [
    "# Plotting our effect sizes, just out of curiousity\n",
    "plt.bar(*zip(*dict_effect_sizes.items()))\n",
    "plt.xlabel(\"Record Label\")\n",
    "plt.ylabel(\"Effect Size\")\n",
    "plt.title(\"Effect Size per Record Label \\n\"\n",
    "          + \"for Record Labels 5+ Reviews\")\n",
    "plt.show()"
   ]
  },
  {
   "cell_type": "markdown",
   "metadata": {},
   "source": [
    "Because of our earlier work, we have a dictionary of the effect size needed per record label to prove a signicant difference between the overall population and the individual record label. Now, we have the actual effect size per record label. So, by comparing the actual effect size to the necessary effect size we can see which record labels have an actual significant difference:"
   ]
  },
  {
   "cell_type": "code",
   "execution_count": 92,
   "metadata": {},
   "outputs": [],
   "source": [
    "# Creating a combined dictionary from the two individual dictionaries\n",
    "dicts = [dict_needed_effects, dict_effect_sizes]\n",
    "dict_combined_effects = {}\n",
    "for k in dict_needed_effects.keys():\n",
    "    dict_combined_effects[k] = tuple(d[k] for d in dicts)"
   ]
  },
  {
   "cell_type": "code",
   "execution_count": 93,
   "metadata": {},
   "outputs": [
    {
     "data": {
      "text/html": [
       "<div>\n",
       "<style scoped>\n",
       "    .dataframe tbody tr th:only-of-type {\n",
       "        vertical-align: middle;\n",
       "    }\n",
       "\n",
       "    .dataframe tbody tr th {\n",
       "        vertical-align: top;\n",
       "    }\n",
       "\n",
       "    .dataframe thead th {\n",
       "        text-align: right;\n",
       "    }\n",
       "</style>\n",
       "<table border=\"1\" class=\"dataframe\">\n",
       "  <thead>\n",
       "    <tr style=\"text-align: right;\">\n",
       "      <th></th>\n",
       "      <th>Needed Effect Size</th>\n",
       "      <th>Actual Effect Size</th>\n",
       "    </tr>\n",
       "  </thead>\n",
       "  <tbody>\n",
       "    <tr>\n",
       "      <th>!k7</th>\n",
       "      <td>0.435219</td>\n",
       "      <td>-0.068716</td>\n",
       "    </tr>\n",
       "    <tr>\n",
       "      <th>100% silk</th>\n",
       "      <td>1.595896</td>\n",
       "      <td>0.217521</td>\n",
       "    </tr>\n",
       "    <tr>\n",
       "      <th>1017 brick squad</th>\n",
       "      <td>1.801912</td>\n",
       "      <td>0.214991</td>\n",
       "    </tr>\n",
       "    <tr>\n",
       "      <th>12xu</th>\n",
       "      <td>2.628974</td>\n",
       "      <td>1.733499</td>\n",
       "    </tr>\n",
       "    <tr>\n",
       "      <th>130701</th>\n",
       "      <td>2.628974</td>\n",
       "      <td>0.639379</td>\n",
       "    </tr>\n",
       "  </tbody>\n",
       "</table>\n",
       "</div>"
      ],
      "text/plain": [
       "                  Needed Effect Size  Actual Effect Size\n",
       "!k7                         0.435219           -0.068716\n",
       "100% silk                   1.595896            0.217521\n",
       "1017 brick squad            1.801912            0.214991\n",
       "12xu                        2.628974            1.733499\n",
       "130701                      2.628974            0.639379"
      ]
     },
     "execution_count": 93,
     "metadata": {},
     "output_type": "execute_result"
    }
   ],
   "source": [
    "# Creating a dataframe from the combined dictionary, for ease of use\n",
    "effects_df = pd.DataFrame.from_dict(dict_combined_effects,\n",
    "                                    orient=\"index\",\n",
    "                                    columns=[\"Needed Effect Size\", \n",
    "                                             \"Actual Effect Size\"])\n",
    "effects_df.head()"
   ]
  },
  {
   "cell_type": "code",
   "execution_count": 95,
   "metadata": {
    "scrolled": true
   },
   "outputs": [],
   "source": [
    "# Finding whether the actual effect size is greater than the effect size\n",
    "# needed to show significance\n",
    "\n",
    "# Note that we are using the absolute value of our actual effect sizes since\n",
    "# the needed effect size is always positive, but the actual effect size can be\n",
    "# either positive or negative (showing the direction of the effect)\n",
    "\n",
    "# Creating empty lists for our differences and significances\n",
    "difference = []\n",
    "significant = []\n",
    "\n",
    "for label in effects_df.index:\n",
    "    # Calculating the difference between needed and actual effect sizes\n",
    "    diff = abs(effects_df.loc[label][\"Actual Effect Size\"]\n",
    "                     ) - effects_df.loc[label][\"Needed Effect Size\"]\n",
    "    difference.append(diff)\n",
    "    \n",
    "    # Creating booleans to show whether the actual effect size was greater \n",
    "    # than the necessary effect size\n",
    "    if diff > 0:\n",
    "        sig = 1\n",
    "    else:\n",
    "        sig = 0\n",
    "    significant.append(sig)\n",
    "\n",
    "effects_df[\"Difference\"] = difference\n",
    "effects_df[\"Significant\"] = significant"
   ]
  },
  {
   "cell_type": "code",
   "execution_count": 96,
   "metadata": {},
   "outputs": [
    {
     "data": {
      "text/html": [
       "<div>\n",
       "<style scoped>\n",
       "    .dataframe tbody tr th:only-of-type {\n",
       "        vertical-align: middle;\n",
       "    }\n",
       "\n",
       "    .dataframe tbody tr th {\n",
       "        vertical-align: top;\n",
       "    }\n",
       "\n",
       "    .dataframe thead th {\n",
       "        text-align: right;\n",
       "    }\n",
       "</style>\n",
       "<table border=\"1\" class=\"dataframe\">\n",
       "  <thead>\n",
       "    <tr style=\"text-align: right;\">\n",
       "      <th></th>\n",
       "      <th>Needed Effect Size</th>\n",
       "      <th>Actual Effect Size</th>\n",
       "      <th>Difference</th>\n",
       "      <th>Significant</th>\n",
       "    </tr>\n",
       "  </thead>\n",
       "  <tbody>\n",
       "    <tr>\n",
       "      <th>!k7</th>\n",
       "      <td>0.435219</td>\n",
       "      <td>-0.068716</td>\n",
       "      <td>-0.366503</td>\n",
       "      <td>0</td>\n",
       "    </tr>\n",
       "    <tr>\n",
       "      <th>100% silk</th>\n",
       "      <td>1.595896</td>\n",
       "      <td>0.217521</td>\n",
       "      <td>-1.378375</td>\n",
       "      <td>0</td>\n",
       "    </tr>\n",
       "    <tr>\n",
       "      <th>1017 brick squad</th>\n",
       "      <td>1.801912</td>\n",
       "      <td>0.214991</td>\n",
       "      <td>-1.586922</td>\n",
       "      <td>0</td>\n",
       "    </tr>\n",
       "    <tr>\n",
       "      <th>12xu</th>\n",
       "      <td>2.628974</td>\n",
       "      <td>1.733499</td>\n",
       "      <td>-0.895475</td>\n",
       "      <td>0</td>\n",
       "    </tr>\n",
       "    <tr>\n",
       "      <th>130701</th>\n",
       "      <td>2.628974</td>\n",
       "      <td>0.639379</td>\n",
       "      <td>-1.989595</td>\n",
       "      <td>0</td>\n",
       "    </tr>\n",
       "    <tr>\n",
       "      <th>20 buck spin</th>\n",
       "      <td>1.166192</td>\n",
       "      <td>1.740854</td>\n",
       "      <td>0.574662</td>\n",
       "      <td>1</td>\n",
       "    </tr>\n",
       "    <tr>\n",
       "      <th>20/20/20</th>\n",
       "      <td>2.109349</td>\n",
       "      <td>0.587758</td>\n",
       "      <td>-1.521591</td>\n",
       "      <td>0</td>\n",
       "    </tr>\n",
       "    <tr>\n",
       "      <th>2062</th>\n",
       "      <td>2.109349</td>\n",
       "      <td>0.966114</td>\n",
       "      <td>-1.143235</td>\n",
       "      <td>0</td>\n",
       "    </tr>\n",
       "    <tr>\n",
       "      <th>300 entertainment</th>\n",
       "      <td>2.109349</td>\n",
       "      <td>1.142310</td>\n",
       "      <td>-0.967038</td>\n",
       "      <td>0</td>\n",
       "    </tr>\n",
       "    <tr>\n",
       "      <th>429</th>\n",
       "      <td>2.109349</td>\n",
       "      <td>-2.541961</td>\n",
       "      <td>0.432612</td>\n",
       "      <td>1</td>\n",
       "    </tr>\n",
       "  </tbody>\n",
       "</table>\n",
       "</div>"
      ],
      "text/plain": [
       "                   Needed Effect Size  Actual Effect Size  Difference  \\\n",
       "!k7                          0.435219           -0.068716   -0.366503   \n",
       "100% silk                    1.595896            0.217521   -1.378375   \n",
       "1017 brick squad             1.801912            0.214991   -1.586922   \n",
       "12xu                         2.628974            1.733499   -0.895475   \n",
       "130701                       2.628974            0.639379   -1.989595   \n",
       "20 buck spin                 1.166192            1.740854    0.574662   \n",
       "20/20/20                     2.109349            0.587758   -1.521591   \n",
       "2062                         2.109349            0.966114   -1.143235   \n",
       "300 entertainment            2.109349            1.142310   -0.967038   \n",
       "429                          2.109349           -2.541961    0.432612   \n",
       "\n",
       "                   Significant  \n",
       "!k7                          0  \n",
       "100% silk                    0  \n",
       "1017 brick squad             0  \n",
       "12xu                         0  \n",
       "130701                       0  \n",
       "20 buck spin                 1  \n",
       "20/20/20                     0  \n",
       "2062                         0  \n",
       "300 entertainment            0  \n",
       "429                          1  "
      ]
     },
     "execution_count": 96,
     "metadata": {},
     "output_type": "execute_result"
    }
   ],
   "source": [
    "effects_df.head(10)"
   ]
  },
  {
   "cell_type": "code",
   "execution_count": 97,
   "metadata": {},
   "outputs": [
    {
     "data": {
      "text/html": [
       "<div>\n",
       "<style scoped>\n",
       "    .dataframe tbody tr th:only-of-type {\n",
       "        vertical-align: middle;\n",
       "    }\n",
       "\n",
       "    .dataframe tbody tr th {\n",
       "        vertical-align: top;\n",
       "    }\n",
       "\n",
       "    .dataframe thead th {\n",
       "        text-align: right;\n",
       "    }\n",
       "</style>\n",
       "<table border=\"1\" class=\"dataframe\">\n",
       "  <thead>\n",
       "    <tr style=\"text-align: right;\">\n",
       "      <th></th>\n",
       "      <th>Needed Effect Size</th>\n",
       "      <th>Actual Effect Size</th>\n",
       "      <th>Difference</th>\n",
       "      <th>Significant</th>\n",
       "    </tr>\n",
       "  </thead>\n",
       "  <tbody>\n",
       "    <tr>\n",
       "      <th>20 buck spin</th>\n",
       "      <td>1.166192</td>\n",
       "      <td>1.740854</td>\n",
       "      <td>0.574662</td>\n",
       "      <td>1</td>\n",
       "    </tr>\n",
       "    <tr>\n",
       "      <th>429</th>\n",
       "      <td>2.109349</td>\n",
       "      <td>-2.541961</td>\n",
       "      <td>0.432612</td>\n",
       "      <td>1</td>\n",
       "    </tr>\n",
       "    <tr>\n",
       "      <th>4ad</th>\n",
       "      <td>0.308555</td>\n",
       "      <td>0.377452</td>\n",
       "      <td>0.068897</td>\n",
       "      <td>1</td>\n",
       "    </tr>\n",
       "    <tr>\n",
       "      <th>analog africa</th>\n",
       "      <td>2.109349</td>\n",
       "      <td>3.378591</td>\n",
       "      <td>1.269243</td>\n",
       "      <td>1</td>\n",
       "    </tr>\n",
       "    <tr>\n",
       "      <th>astralwerks</th>\n",
       "      <td>0.279338</td>\n",
       "      <td>-0.475588</td>\n",
       "      <td>0.196250</td>\n",
       "      <td>1</td>\n",
       "    </tr>\n",
       "  </tbody>\n",
       "</table>\n",
       "</div>"
      ],
      "text/plain": [
       "               Needed Effect Size  Actual Effect Size  Difference  Significant\n",
       "20 buck spin             1.166192            1.740854    0.574662            1\n",
       "429                      2.109349           -2.541961    0.432612            1\n",
       "4ad                      0.308555            0.377452    0.068897            1\n",
       "analog africa            2.109349            3.378591    1.269243            1\n",
       "astralwerks              0.279338           -0.475588    0.196250            1"
      ]
     },
     "execution_count": 97,
     "metadata": {},
     "output_type": "execute_result"
    }
   ],
   "source": [
    "# Creating a new dataframe with only the record labels with a statistically\n",
    "# significant difference between their average scores and the overall average\n",
    "significant_difference = effects_df.loc[effects_df[\"Significant\"] == 1]\n",
    "significant_difference.head()"
   ]
  },
  {
   "cell_type": "code",
   "execution_count": 98,
   "metadata": {
    "scrolled": true
   },
   "outputs": [
    {
     "data": {
      "text/plain": [
       "(70, 4)"
      ]
     },
     "execution_count": 98,
     "metadata": {},
     "output_type": "execute_result"
    }
   ],
   "source": [
    "significant_difference.shape"
   ]
  },
  {
   "cell_type": "markdown",
   "metadata": {},
   "source": [
    "So there are 70 record labels with average scores that are significantly different than the overall average score!\n",
    "\n",
    "Let's dig into what those record labels look like:"
   ]
  },
  {
   "cell_type": "code",
   "execution_count": 99,
   "metadata": {},
   "outputs": [
    {
     "data": {
      "text/html": [
       "<div>\n",
       "<style scoped>\n",
       "    .dataframe tbody tr th:only-of-type {\n",
       "        vertical-align: middle;\n",
       "    }\n",
       "\n",
       "    .dataframe tbody tr th {\n",
       "        vertical-align: top;\n",
       "    }\n",
       "\n",
       "    .dataframe thead th {\n",
       "        text-align: right;\n",
       "    }\n",
       "</style>\n",
       "<table border=\"1\" class=\"dataframe\">\n",
       "  <thead>\n",
       "    <tr style=\"text-align: right;\">\n",
       "      <th></th>\n",
       "      <th>Needed Effect Size</th>\n",
       "      <th>Actual Effect Size</th>\n",
       "      <th>Difference</th>\n",
       "      <th>Significant</th>\n",
       "      <th>avg_score</th>\n",
       "      <th>count</th>\n",
       "      <th>stdev</th>\n",
       "    </tr>\n",
       "  </thead>\n",
       "  <tbody>\n",
       "    <tr>\n",
       "      <th>20 buck spin</th>\n",
       "      <td>1.166192</td>\n",
       "      <td>1.740854</td>\n",
       "      <td>0.574662</td>\n",
       "      <td>1</td>\n",
       "      <td>7.783333</td>\n",
       "      <td>12</td>\n",
       "      <td>0.251661</td>\n",
       "    </tr>\n",
       "    <tr>\n",
       "      <th>429</th>\n",
       "      <td>2.109349</td>\n",
       "      <td>-2.541961</td>\n",
       "      <td>0.432612</td>\n",
       "      <td>1</td>\n",
       "      <td>5.400000</td>\n",
       "      <td>6</td>\n",
       "      <td>0.684105</td>\n",
       "    </tr>\n",
       "    <tr>\n",
       "      <th>4ad</th>\n",
       "      <td>0.308555</td>\n",
       "      <td>0.377452</td>\n",
       "      <td>0.068897</td>\n",
       "      <td>1</td>\n",
       "      <td>7.370635</td>\n",
       "      <td>126</td>\n",
       "      <td>1.227946</td>\n",
       "    </tr>\n",
       "    <tr>\n",
       "      <th>analog africa</th>\n",
       "      <td>2.109349</td>\n",
       "      <td>3.378591</td>\n",
       "      <td>1.269243</td>\n",
       "      <td>1</td>\n",
       "      <td>8.516667</td>\n",
       "      <td>6</td>\n",
       "      <td>0.256255</td>\n",
       "    </tr>\n",
       "    <tr>\n",
       "      <th>astralwerks</th>\n",
       "      <td>0.279338</td>\n",
       "      <td>-0.475588</td>\n",
       "      <td>0.196250</td>\n",
       "      <td>1</td>\n",
       "      <td>6.380392</td>\n",
       "      <td>153</td>\n",
       "      <td>1.776493</td>\n",
       "    </tr>\n",
       "  </tbody>\n",
       "</table>\n",
       "</div>"
      ],
      "text/plain": [
       "               Needed Effect Size  Actual Effect Size  Difference  \\\n",
       "20 buck spin             1.166192            1.740854    0.574662   \n",
       "429                      2.109349           -2.541961    0.432612   \n",
       "4ad                      0.308555            0.377452    0.068897   \n",
       "analog africa            2.109349            3.378591    1.269243   \n",
       "astralwerks              0.279338           -0.475588    0.196250   \n",
       "\n",
       "               Significant  avg_score  count     stdev  \n",
       "20 buck spin             1   7.783333     12  0.251661  \n",
       "429                      1   5.400000      6  0.684105  \n",
       "4ad                      1   7.370635    126  1.227946  \n",
       "analog africa            1   8.516667      6  0.256255  \n",
       "astralwerks              1   6.380392    153  1.776493  "
      ]
     },
     "execution_count": 99,
     "metadata": {},
     "output_type": "execute_result"
    }
   ],
   "source": [
    "# Joining the average score, count and standard deviation columns from the \n",
    "# culled_label_df to the significant labels dataframe for more context\n",
    "significant_labels_df = significant_difference.join(culled_label_df, \n",
    "                                                    how =\"left\")\n",
    "significant_labels_df.head()"
   ]
  },
  {
   "cell_type": "code",
   "execution_count": 100,
   "metadata": {
    "scrolled": true
   },
   "outputs": [
    {
     "data": {
      "text/html": [
       "<div>\n",
       "<style scoped>\n",
       "    .dataframe tbody tr th:only-of-type {\n",
       "        vertical-align: middle;\n",
       "    }\n",
       "\n",
       "    .dataframe tbody tr th {\n",
       "        vertical-align: top;\n",
       "    }\n",
       "\n",
       "    .dataframe thead th {\n",
       "        text-align: right;\n",
       "    }\n",
       "</style>\n",
       "<table border=\"1\" class=\"dataframe\">\n",
       "  <thead>\n",
       "    <tr style=\"text-align: right;\">\n",
       "      <th></th>\n",
       "      <th>Needed Effect Size</th>\n",
       "      <th>Actual Effect Size</th>\n",
       "      <th>Difference</th>\n",
       "      <th>Significant</th>\n",
       "      <th>avg_score</th>\n",
       "      <th>count</th>\n",
       "      <th>stdev</th>\n",
       "    </tr>\n",
       "  </thead>\n",
       "  <tbody>\n",
       "    <tr>\n",
       "      <th>philips</th>\n",
       "      <td>2.109349</td>\n",
       "      <td>2.744868</td>\n",
       "      <td>0.635519</td>\n",
       "      <td>1</td>\n",
       "      <td>8.916667</td>\n",
       "      <td>6</td>\n",
       "      <td>0.796032</td>\n",
       "    </tr>\n",
       "    <tr>\n",
       "      <th>irs</th>\n",
       "      <td>1.801912</td>\n",
       "      <td>2.128269</td>\n",
       "      <td>0.326357</td>\n",
       "      <td>1</td>\n",
       "      <td>8.842857</td>\n",
       "      <td>7</td>\n",
       "      <td>1.073712</td>\n",
       "    </tr>\n",
       "    <tr>\n",
       "      <th>dust-to-digital</th>\n",
       "      <td>1.166192</td>\n",
       "      <td>3.181030</td>\n",
       "      <td>2.014838</td>\n",
       "      <td>1</td>\n",
       "      <td>8.733333</td>\n",
       "      <td>12</td>\n",
       "      <td>0.505125</td>\n",
       "    </tr>\n",
       "    <tr>\n",
       "      <th>analog africa</th>\n",
       "      <td>2.109349</td>\n",
       "      <td>3.378591</td>\n",
       "      <td>1.269243</td>\n",
       "      <td>1</td>\n",
       "      <td>8.516667</td>\n",
       "      <td>6</td>\n",
       "      <td>0.256255</td>\n",
       "    </tr>\n",
       "    <tr>\n",
       "      <th>hip-o select</th>\n",
       "      <td>0.792015</td>\n",
       "      <td>1.557625</td>\n",
       "      <td>0.765610</td>\n",
       "      <td>1</td>\n",
       "      <td>8.513636</td>\n",
       "      <td>22</td>\n",
       "      <td>1.238776</td>\n",
       "    </tr>\n",
       "  </tbody>\n",
       "</table>\n",
       "</div>"
      ],
      "text/plain": [
       "                 Needed Effect Size  Actual Effect Size  Difference  \\\n",
       "philips                    2.109349            2.744868    0.635519   \n",
       "irs                        1.801912            2.128269    0.326357   \n",
       "dust-to-digital            1.166192            3.181030    2.014838   \n",
       "analog africa              2.109349            3.378591    1.269243   \n",
       "hip-o select               0.792015            1.557625    0.765610   \n",
       "\n",
       "                 Significant  avg_score  count     stdev  \n",
       "philips                    1   8.916667      6  0.796032  \n",
       "irs                        1   8.842857      7  1.073712  \n",
       "dust-to-digital            1   8.733333     12  0.505125  \n",
       "analog africa              1   8.516667      6  0.256255  \n",
       "hip-o select               1   8.513636     22  1.238776  "
      ]
     },
     "execution_count": 100,
     "metadata": {},
     "output_type": "execute_result"
    }
   ],
   "source": [
    "# Examining the record labels with the highest average score\n",
    "significant_labels_df.sort_values(\"avg_score\", ascending=False).head()"
   ]
  },
  {
   "cell_type": "code",
   "execution_count": 101,
   "metadata": {},
   "outputs": [
    {
     "data": {
      "text/html": [
       "<div>\n",
       "<style scoped>\n",
       "    .dataframe tbody tr th:only-of-type {\n",
       "        vertical-align: middle;\n",
       "    }\n",
       "\n",
       "    .dataframe tbody tr th {\n",
       "        vertical-align: top;\n",
       "    }\n",
       "\n",
       "    .dataframe thead th {\n",
       "        text-align: right;\n",
       "    }\n",
       "</style>\n",
       "<table border=\"1\" class=\"dataframe\">\n",
       "  <thead>\n",
       "    <tr style=\"text-align: right;\">\n",
       "      <th></th>\n",
       "      <th>Needed Effect Size</th>\n",
       "      <th>Actual Effect Size</th>\n",
       "      <th>Difference</th>\n",
       "      <th>Significant</th>\n",
       "      <th>avg_score</th>\n",
       "      <th>count</th>\n",
       "      <th>stdev</th>\n",
       "    </tr>\n",
       "  </thead>\n",
       "  <tbody>\n",
       "    <tr>\n",
       "      <th>shady</th>\n",
       "      <td>1.332031</td>\n",
       "      <td>-1.465552</td>\n",
       "      <td>0.133521</td>\n",
       "      <td>1</td>\n",
       "      <td>5.140000</td>\n",
       "      <td>10</td>\n",
       "      <td>1.708280</td>\n",
       "    </tr>\n",
       "    <tr>\n",
       "      <th>429</th>\n",
       "      <td>2.109349</td>\n",
       "      <td>-2.541961</td>\n",
       "      <td>0.432612</td>\n",
       "      <td>1</td>\n",
       "      <td>5.400000</td>\n",
       "      <td>6</td>\n",
       "      <td>0.684105</td>\n",
       "    </tr>\n",
       "    <tr>\n",
       "      <th>metropolis</th>\n",
       "      <td>2.628974</td>\n",
       "      <td>-3.192106</td>\n",
       "      <td>0.563132</td>\n",
       "      <td>1</td>\n",
       "      <td>5.400000</td>\n",
       "      <td>5</td>\n",
       "      <td>0.418330</td>\n",
       "    </tr>\n",
       "    <tr>\n",
       "      <th>dim mak</th>\n",
       "      <td>0.675020</td>\n",
       "      <td>-0.835979</td>\n",
       "      <td>0.160959</td>\n",
       "      <td>1</td>\n",
       "      <td>5.951724</td>\n",
       "      <td>29</td>\n",
       "      <td>1.692129</td>\n",
       "    </tr>\n",
       "    <tr>\n",
       "      <th>jade tree</th>\n",
       "      <td>0.572420</td>\n",
       "      <td>-0.613700</td>\n",
       "      <td>0.041280</td>\n",
       "      <td>1</td>\n",
       "      <td>6.105128</td>\n",
       "      <td>39</td>\n",
       "      <td>2.000256</td>\n",
       "    </tr>\n",
       "  </tbody>\n",
       "</table>\n",
       "</div>"
      ],
      "text/plain": [
       "            Needed Effect Size  Actual Effect Size  Difference  Significant  \\\n",
       "shady                 1.332031           -1.465552    0.133521            1   \n",
       "429                   2.109349           -2.541961    0.432612            1   \n",
       "metropolis            2.628974           -3.192106    0.563132            1   \n",
       "dim mak               0.675020           -0.835979    0.160959            1   \n",
       "jade tree             0.572420           -0.613700    0.041280            1   \n",
       "\n",
       "            avg_score  count     stdev  \n",
       "shady        5.140000     10  1.708280  \n",
       "429          5.400000      6  0.684105  \n",
       "metropolis   5.400000      5  0.418330  \n",
       "dim mak      5.951724     29  1.692129  \n",
       "jade tree    6.105128     39  2.000256  "
      ]
     },
     "execution_count": 101,
     "metadata": {},
     "output_type": "execute_result"
    }
   ],
   "source": [
    "# Examining the record labels with the lowest average score\n",
    "significant_labels_df.sort_values(\"avg_score\", ascending=True).head()"
   ]
  },
  {
   "cell_type": "code",
   "execution_count": 130,
   "metadata": {
    "scrolled": false
   },
   "outputs": [
    {
     "data": {
      "text/html": [
       "<div>\n",
       "<style scoped>\n",
       "    .dataframe tbody tr th:only-of-type {\n",
       "        vertical-align: middle;\n",
       "    }\n",
       "\n",
       "    .dataframe tbody tr th {\n",
       "        vertical-align: top;\n",
       "    }\n",
       "\n",
       "    .dataframe thead th {\n",
       "        text-align: right;\n",
       "    }\n",
       "</style>\n",
       "<table border=\"1\" class=\"dataframe\">\n",
       "  <thead>\n",
       "    <tr style=\"text-align: right;\">\n",
       "      <th></th>\n",
       "      <th>Needed Effect Size</th>\n",
       "      <th>Actual Effect Size</th>\n",
       "      <th>Difference</th>\n",
       "      <th>Significant</th>\n",
       "      <th>avg_score</th>\n",
       "      <th>count</th>\n",
       "      <th>stdev</th>\n",
       "    </tr>\n",
       "  </thead>\n",
       "  <tbody>\n",
       "    <tr>\n",
       "      <th>dust-to-digital</th>\n",
       "      <td>1.166192</td>\n",
       "      <td>3.181030</td>\n",
       "      <td>2.014838</td>\n",
       "      <td>1</td>\n",
       "      <td>8.733333</td>\n",
       "      <td>12</td>\n",
       "      <td>0.505125</td>\n",
       "    </tr>\n",
       "    <tr>\n",
       "      <th>analog africa</th>\n",
       "      <td>2.109349</td>\n",
       "      <td>3.378591</td>\n",
       "      <td>1.269243</td>\n",
       "      <td>1</td>\n",
       "      <td>8.516667</td>\n",
       "      <td>6</td>\n",
       "      <td>0.256255</td>\n",
       "    </tr>\n",
       "    <tr>\n",
       "      <th>tzadik</th>\n",
       "      <td>0.752540</td>\n",
       "      <td>1.758720</td>\n",
       "      <td>1.006179</td>\n",
       "      <td>1</td>\n",
       "      <td>7.929167</td>\n",
       "      <td>24</td>\n",
       "      <td>0.463896</td>\n",
       "    </tr>\n",
       "    <tr>\n",
       "      <th>numero group</th>\n",
       "      <td>0.454025</td>\n",
       "      <td>1.396150</td>\n",
       "      <td>0.942125</td>\n",
       "      <td>1</td>\n",
       "      <td>7.878333</td>\n",
       "      <td>60</td>\n",
       "      <td>0.665899</td>\n",
       "    </tr>\n",
       "    <tr>\n",
       "      <th>paradise of bachelors</th>\n",
       "      <td>0.926527</td>\n",
       "      <td>1.790585</td>\n",
       "      <td>0.864058</td>\n",
       "      <td>1</td>\n",
       "      <td>7.923529</td>\n",
       "      <td>17</td>\n",
       "      <td>0.435215</td>\n",
       "    </tr>\n",
       "  </tbody>\n",
       "</table>\n",
       "</div>"
      ],
      "text/plain": [
       "                       Needed Effect Size  Actual Effect Size  Difference  \\\n",
       "dust-to-digital                  1.166192            3.181030    2.014838   \n",
       "analog africa                    2.109349            3.378591    1.269243   \n",
       "tzadik                           0.752540            1.758720    1.006179   \n",
       "numero group                     0.454025            1.396150    0.942125   \n",
       "paradise of bachelors            0.926527            1.790585    0.864058   \n",
       "\n",
       "                       Significant  avg_score  count     stdev  \n",
       "dust-to-digital                  1   8.733333     12  0.505125  \n",
       "analog africa                    1   8.516667      6  0.256255  \n",
       "tzadik                           1   7.929167     24  0.463896  \n",
       "numero group                     1   7.878333     60  0.665899  \n",
       "paradise of bachelors            1   7.923529     17  0.435215  "
      ]
     },
     "execution_count": 130,
     "metadata": {},
     "output_type": "execute_result"
    }
   ],
   "source": [
    "# Examining the record labels with the greatest difference between the effect\n",
    "# size needed to show significance and their actual effect size\n",
    "significant_labels_df.sort_values(\"Difference\", ascending=False).head()"
   ]
  },
  {
   "cell_type": "code",
   "execution_count": 103,
   "metadata": {
    "scrolled": false
   },
   "outputs": [
    {
     "data": {
      "image/png": "[encoded data removed]",
      "text/plain": [
       "<Figure size 432x288 with 1 Axes>"
      ]
     },
     "metadata": {
      "needs_background": "light"
     },
     "output_type": "display_data"
    }
   ],
   "source": [
    "sns.scatterplot(x=significant_labels_df[\"count\"], \n",
    "                y=significant_labels_df[\"Difference\"])\n",
    "plt.xlabel(\"Number of Reviews (per record label)\")\n",
    "plt.ylabel(\"Effect Size Difference\")\n",
    "plt.title(\"Relationship between Effect Size Difference and Number of Reviews \\n\"\n",
    "          + \"for Record Labels with a Significant Difference\")\n",
    "plt.show()"
   ]
  },
  {
   "cell_type": "code",
   "execution_count": 110,
   "metadata": {},
   "outputs": [],
   "source": [
    "effect_mean = significant_labels_df[\"Actual Effect Size\"].mean()"
   ]
  },
  {
   "cell_type": "code",
   "execution_count": 128,
   "metadata": {
    "scrolled": false
   },
   "outputs": [
    {
     "data": {
      "image/png": "[encoded data removed]",
      "text/plain": [
       "<Figure size 864x576 with 1 Axes>"
      ]
     },
     "metadata": {
      "needs_background": "light"
     },
     "output_type": "display_data"
    }
   ],
   "source": [
    "plt.figure(figsize=(12,8))\n",
    "sns.scatterplot(x=significant_labels_df[\"avg_score\"],\n",
    "                y=significant_labels_df[\"Actual Effect Size\"],\n",
    "                hue=(abs(significant_labels_df[\"Actual Effect Size\"])),\n",
    "                size=significant_labels_df[\"count\"],\n",
    "                sizes=(20,250),\n",
    "                palette=\"RdBu\")\n",
    "plt.xlabel(\"Average Score (per record label)\")\n",
    "plt.ylabel(\"Effect Size\")\n",
    "plt.title(\"Relationship between Effect Size and Average Score \\n\"\n",
    "          + \"for Record Labels with a Significant Difference\")\n",
    "plt.show()"
   ]
  },
  {
   "cell_type": "code",
   "execution_count": 105,
   "metadata": {},
   "outputs": [
    {
     "data": {
      "text/html": [
       "<div>\n",
       "<style scoped>\n",
       "    .dataframe tbody tr th:only-of-type {\n",
       "        vertical-align: middle;\n",
       "    }\n",
       "\n",
       "    .dataframe tbody tr th {\n",
       "        vertical-align: top;\n",
       "    }\n",
       "\n",
       "    .dataframe thead th {\n",
       "        text-align: right;\n",
       "    }\n",
       "</style>\n",
       "<table border=\"1\" class=\"dataframe\">\n",
       "  <thead>\n",
       "    <tr style=\"text-align: right;\">\n",
       "      <th></th>\n",
       "      <th>score</th>\n",
       "      <th>label</th>\n",
       "    </tr>\n",
       "  </thead>\n",
       "  <tbody>\n",
       "    <tr>\n",
       "      <th>0</th>\n",
       "      <td>9.3</td>\n",
       "      <td>virgin</td>\n",
       "    </tr>\n",
       "    <tr>\n",
       "      <th>18</th>\n",
       "      <td>6.6</td>\n",
       "      <td>soul jazz</td>\n",
       "    </tr>\n",
       "    <tr>\n",
       "      <th>23</th>\n",
       "      <td>7.5</td>\n",
       "      <td>profound lore</td>\n",
       "    </tr>\n",
       "    <tr>\n",
       "      <th>25</th>\n",
       "      <td>7.8</td>\n",
       "      <td>northern spy</td>\n",
       "    </tr>\n",
       "    <tr>\n",
       "      <th>29</th>\n",
       "      <td>8.2</td>\n",
       "      <td>polyvinyl</td>\n",
       "    </tr>\n",
       "  </tbody>\n",
       "</table>\n",
       "</div>"
      ],
      "text/plain": [
       "    score          label\n",
       "0     9.3         virgin\n",
       "18    6.6      soul jazz\n",
       "23    7.5  profound lore\n",
       "25    7.8   northern spy\n",
       "29    8.2      polyvinyl"
      ]
     },
     "execution_count": 105,
     "metadata": {},
     "output_type": "execute_result"
    }
   ],
   "source": [
    "significant_scores_df = df[df[\"label\"].isin(significant_labels_df.index)]\n",
    "significant_scores_df.head()"
   ]
  },
  {
   "cell_type": "code",
   "execution_count": 106,
   "metadata": {},
   "outputs": [
    {
     "data": {
      "image/png": "[encoded data removed]",
      "text/plain": [
       "<Figure size 1296x720 with 1 Axes>"
      ]
     },
     "metadata": {
      "needs_background": "light"
     },
     "output_type": "display_data"
    }
   ],
   "source": [
    "# Drawing an unfortunately useless graph showing\n",
    "fig = plt.figure(figsize = (18,10))\n",
    "\n",
    "sns.kdeplot(df[\"score\"], shade=True, legend=False)\n",
    "\n",
    "for label in significant_scores_df[\"label\"].unique():\n",
    "    label_df = significant_scores_df[significant_scores_df['label'] == label]\n",
    "    sns.kdeplot(label_df[\"score\"], legend=False)\n",
    "    \n",
    "plt.show()"
   ]
  },
  {
   "cell_type": "markdown",
   "metadata": {},
   "source": [
    "We can see that there are 70 record labels whose average review scores are significantly different from the overall average review score for all record labels, according to our test which has a power of 80% and a 99% confidence level. This implies that the record label can have an effect on review score. \n",
    "\n",
    "A note on the limitations of this examination: other factors within the data could account for this effect. Record labels could only deal with one genre of music, for example, which could mean that an effect due to the genre is coming through as an effect due to record label. Other explanatory variables could be lurking behind record label and actually explaining the difference we found."
   ]
  },
  {
   "cell_type": "code",
   "execution_count": null,
   "metadata": {},
   "outputs": [],
   "source": []
  }
 ],
 "metadata": {
  "kernelspec": {
   "display_name": "Python 3",
   "language": "python",
   "name": "python3"
  },
  "language_info": {
   "codemirror_mode": {
    "name": "ipython",
    "version": 3
   },
   "file_extension": ".py",
   "mimetype": "text/x-python",
   "name": "python",
   "nbconvert_exporter": "python",
   "pygments_lexer": "ipython3",
   "version": "3.7.3"
  }
 },
 "nbformat": 4,
 "nbformat_minor": 2
}
